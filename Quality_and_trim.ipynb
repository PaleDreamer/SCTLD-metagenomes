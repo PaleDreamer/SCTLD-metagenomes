{
 "cells": [
  {
   "cell_type": "markdown",
   "id": "094cc35f",
   "metadata": {},
   "source": [
    "### Quality control + trimming scripts"
   ]
  },
  {
   "cell_type": "code",
   "execution_count": null,
   "id": "499ef4d5",
   "metadata": {},
   "outputs": [],
   "source": [
    "FILEPATH='../../00_DATA'\n",
    "OUTPUT_WORKING='../data/working'\n",
    "OUTPUT_RESULTS='../data/results'\n",
    "\n",
    "\n",
    "#this line creates a file that gives all the filenames in the directory with the data, without the suffixes added by the sequencer\n",
    "ls $FILEPATH/T*.fastq.gz -1 | sed 's/_R*_001.fastq.gz//' |print $OUTPUT_WORKING/sample_names.txt\n",
    "\n",
    "\n",
    "#this loop removes adapter sequences and then quality checks the sequences and outputs a QC file\n",
    "for f in $OUTPUT_WORKING/sample_names.txt \n",
    "do \n",
    "    trim_galore -q 20 --phred33 --fastqc --illumina --length 20 --paired \"$f\"_R1_001.fastq \"$f\"_R2_001.fastq;\n",
    "    fastqc -o $OUTPUT_RESULTS -t $NSLOTS \"$f\"_R*_001.fastq.gz\n",
    "done"
   ]
  },
  {
   "cell_type": "code",
   "execution_count": null,
   "id": "a3b2f2c7",
   "metadata": {},
   "outputs": [],
   "source": [
    "                                                                                                                                                                                                                               \n",
    "FILEPATH='../../00_DATA'                                                                                                                                                                                                         \n",
    "OUTPUT_WORKING='../data/working'                                                                                                                                                                                                 \n",
    "OUTPUT_RESULTS='../data/results'                                                                                                                                                                                                 \n",
    "                                                                                                                                                                                                                                 \n",
    "                                                                                                                                                                                                                                 \n",
    "#this line creates a file that gives all the filenames in the directory with the data, without the suffixes added by the sequencer                                                                                               \n",
    "#ls $FILEPATH/*.fastq.gz -1 | sed 's/_R*_001.fastq.gz//' |cat > $OUTPUT_WORKING/sample_names.txt                                                                                                                                 \n",
    "                                                                                                                                                                                                                                 \n",
    "                                                                                                                                                                                                                                 \n",
    "#this loop removes adapter sequences and then quality checks the sequences and outputs a QC file                                                                                                                                 \n",
    "LINES=$(cat \"$OUTPUT_WORKING\"/sample_names_fixed.txt)                                                                                                                                                                            \n",
    "for f in $LINES                                                                                                                                                                                                                  \n",
    "do                                                                                                                                                                                                                               \n",
    "    trim_galore -j $NSLOTS -q 20 --phred33 --fastqc --illumina --length 20 --paired \"$FILEPATH\"/\"$f\"_R1_001.fastq.gz \"$FILEPATH\"/\"$f\"_R2_001.fastq.gz;                                                                           \n",
    "    fastqc -o $OUTPUT_RESULTS -t $NSLOTS \"$f\"_R*_001.fastq.gz                                                                                                                                                        \n",
    "done                                                                                                                                                                                                                             \n",
    "#                                                                                                                                                                                                                                \n",
    "echo = `date` job $JOB_NAME done                                                                                                                                                                                                 \n",
    "shave_and_haircut.job (END)"
   ]
  }
 ],
 "metadata": {
  "kernelspec": {
   "display_name": "Python 3",
   "language": "python",
   "name": "python3"
  },
  "language_info": {
   "codemirror_mode": {
    "name": "ipython",
    "version": 3
   },
   "file_extension": ".py",
   "mimetype": "text/x-python",
   "name": "python",
   "nbconvert_exporter": "python",
   "pygments_lexer": "ipython3",
   "version": "3.9.7"
  }
 },
 "nbformat": 4,
 "nbformat_minor": 5
}
