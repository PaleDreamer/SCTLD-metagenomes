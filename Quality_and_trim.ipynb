{
 "cells": [
  {
   "cell_type": "markdown",
   "id": "094cc35f",
   "metadata": {},
   "source": [
    "### Quality control + trimming scripts"
   ]
  },
  {
   "cell_type": "code",
   "execution_count": null,
   "id": "499ef4d5",
   "metadata": {},
   "outputs": [],
   "source": [
    "FILEPATH='../../00_DATA'\n",
    "OUTPUT_WORKING='../data/working'\n",
    "OUTPUT_RESULTS='../data/results'\n",
    "\n",
    "#this loop removes adapter sequences and then quality checks the sequences and outputs a QC file\n",
    "for f in Coral1 Coral2 Coral3 Coral4 Coral5 T3-21-Mmea_S96_L001 T3-4-Past_S113_L001; \n",
    "do \n",
    "    trim_galore -q 20 --phred33 --fastqc --illumina --length 20 --paired \"$f\"_R1_001.fastq \"$f\"_R2_001.fastq;\n",
    "    fastqc ../data/working/*.fastq \\\n",
    "--outdir=../data/results\n",
    "done"
   ]
  }
 ],
 "metadata": {
  "kernelspec": {
   "display_name": "Python 3",
   "language": "python",
   "name": "python3"
  },
  "language_info": {
   "codemirror_mode": {
    "name": "ipython",
    "version": 3
   },
   "file_extension": ".py",
   "mimetype": "text/x-python",
   "name": "python",
   "nbconvert_exporter": "python",
   "pygments_lexer": "ipython3",
   "version": "3.9.7"
  }
 },
 "nbformat": 4,
 "nbformat_minor": 5
}
