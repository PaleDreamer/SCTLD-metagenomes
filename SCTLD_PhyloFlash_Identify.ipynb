{
 "cells": [
  {
   "cell_type": "code",
   "execution_count": null,
   "id": "77ad6ffb",
   "metadata": {},
   "outputs": [],
   "source": []
  },
  {
   "cell_type": "code",
   "execution_count": null,
   "id": "c08f2699",
   "metadata": {},
   "outputs": [],
   "source": [
    "SAMPLENAME=\n",
    "BINPATH=/path/to/bins\n",
    "DATAPATH=/path/to/final/data\n",
    "#these check whether your bins are indeed correct\n",
    "\n",
    "#this is the actual script\n",
    "\n",
    "for x in <insert_PhyloFlash_names> \n",
    "\n",
    "do\n",
    "\n",
    "bowtie2 -x * \"$x\" -o \"$DATAPATH\"\n",
    "#probably have to do some samtools shenanigans here\n",
    "\n",
    "#determine coverage and output as a csv file per PhyloFlash hit? \n"
   ]
  }
 ],
 "metadata": {
  "kernelspec": {
   "display_name": "Python 3",
   "language": "python",
   "name": "python3"
  },
  "language_info": {
   "codemirror_mode": {
    "name": "ipython",
    "version": 3
   },
   "file_extension": ".py",
   "mimetype": "text/x-python",
   "name": "python",
   "nbconvert_exporter": "python",
   "pygments_lexer": "ipython3",
   "version": "3.9.7"
  }
 },
 "nbformat": 4,
 "nbformat_minor": 5
}
